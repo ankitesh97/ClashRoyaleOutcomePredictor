{
 "metadata": {
  "name": "",
  "signature": "sha256:34e3f316ff5a55350d34ff2c5b8987b03aec16048c7f922a2eee987745d374d6"
 },
 "nbformat": 3,
 "nbformat_minor": 0,
 "worksheets": [
  {
   "cells": [
    {
     "cell_type": "code",
     "collapsed": false,
     "input": [
      "%matplotlib inline\n",
      "import json\n",
      "import requests\n",
      "import pandas as pd\n",
      "import matplotlib.pyplot as plt\n",
      "from bs4 import BeautifulSoup\n",
      "import urllib2\n",
      "import numpy as np"
     ],
     "language": "python",
     "metadata": {},
     "outputs": [],
     "prompt_number": 1
    },
    {
     "cell_type": "markdown",
     "metadata": {},
     "source": [
      "# Analyze the dataset"
     ]
    },
    {
     "cell_type": "markdown",
     "metadata": {},
     "source": [
      "### Load the data"
     ]
    },
    {
     "cell_type": "code",
     "collapsed": false,
     "input": [
      "data = open('data/matches.txt','r').read().split('\\n')\n",
      "n_dps = 200000\n",
      "data = map(eval,data[:n_dps])\n"
     ],
     "language": "python",
     "metadata": {},
     "outputs": [],
     "prompt_number": 3
    },
    {
     "cell_type": "markdown",
     "metadata": {},
     "source": [
      "### Clean data to only get the required fields"
     ]
    },
    {
     "cell_type": "code",
     "collapsed": false,
     "input": [
      "print data[0] #order will be right player information, followed by left player's and the outcoume (wrt right player)"
     ],
     "language": "python",
     "metadata": {},
     "outputs": [
      {
       "output_type": "stream",
       "stream": "stdout",
       "text": [
        "{'players': {'right': {'trophy': '4258', 'clan': 'TwoFiveOne', 'name': 'gpa raid', 'deck': [['Mega Minion', '9'], ['Electro Wizard', '3'], ['Arrows', '11'], ['Lightning', '5'], ['Tombstone', '9'], ['The Log', '2'], ['Giant', '9'], ['Bowler', '5']]}, 'left': {'trophy': '4325', 'clan': 'battusai', 'name': 'Supr4', 'deck': [['Fireball', '9'], ['Archers', '12'], ['Goblins', '12'], ['Minions', '11'], ['Bomber', '12'], ['The Log', '2'], ['Barbarians', '12'], ['Royal Giant', '13']]}}, 'type': 'ladder', 'result': ['2', '0'], 'time': '2017-07-12'}\n"
       ]
      }
     ],
     "prompt_number": 4
    },
    {
     "cell_type": "code",
     "collapsed": false,
     "input": [
      "#information necessary trophies, [card name, level] * 8\n",
      "cleaned_data = []\n",
      "for x in data:\n",
      "    players = x['players']\n",
      "    right_deck = players['right']['deck']\n",
      "    left_deck = players['left']['deck']\n",
      "    result_lis = map(int,x['result'])\n",
      "    res = result_lis[0] - result_lis[1] #positive then won, if 0 then draw, else lost\n",
      "    tmp_dict = {}\n",
      "\n",
      "    tmp_dict['tr'] = players['right']['trophy']\n",
      "    for d in range(len(right_deck)):\n",
      "        tmp_dict[\"cr\"+str(d+1)] = right_deck[d][0]\n",
      "        tmp_dict[\"lr\"+str(d+1)] = right_deck[d][1]\n",
      "    \n",
      "    tmp_dict['tl'] = players['left']['trophy']  \n",
      "    for d in range(len(left_deck)):\n",
      "        tmp_dict[\"cl\"+str(d+1)] = left_deck[d][0]\n",
      "        tmp_dict[\"ll\"+str(d+1)] = left_deck[d][1]\n",
      "    \n",
      "    tmp_dict['result'] = res\n",
      "    cleaned_data.append(tmp_dict)\n",
      "    "
     ],
     "language": "python",
     "metadata": {},
     "outputs": [],
     "prompt_number": 5
    },
    {
     "cell_type": "markdown",
     "metadata": {},
     "source": [
      "### Convert to pandas of our cleaned data"
     ]
    },
    {
     "cell_type": "code",
     "collapsed": false,
     "input": [
      "df = pd.DataFrame(cleaned_data)\n",
      "print df.head()\n",
      "#save to csv\n",
      "# save 100\n",
      "#df[:100].to_csv('data/small.csv')\n",
      "#save all\n",
      "#df.to_csv('data/cleaned.csv')"
     ],
     "language": "python",
     "metadata": {},
     "outputs": [
      {
       "output_type": "stream",
       "stream": "stdout",
       "text": [
        "           cl1         cl2      cl3          cl4       cl5         cl6  \\\n",
        "0     Fireball     Archers  Goblins      Minions    Bomber     The Log   \n",
        "1  Royal Giant  Ice Wizard   Bomber       Knight  Fireball  Barbarians   \n",
        "2  Royal Giant  Ice Wizard   Bomber       Knight  Fireball  Barbarians   \n",
        "3  Royal Giant  Ice Wizard   Bomber       Knight  Fireball  Barbarians   \n",
        "4    Graveyard  Ice Wizard      Zap  Mega Minion     Giant    Fireball   \n",
        "\n",
        "          cl7          cl8          cr1             cr2  ...  lr2 lr3 lr4 lr5  \\\n",
        "0  Barbarians  Royal Giant  Mega Minion  Electro Wizard  ...    3  11   5   9   \n",
        "1     The Log      Archers   Ice Spirit        Valkyrie  ...    9   9   9  12   \n",
        "2     The Log      Archers        Miner       Ice Golem  ...    9  12  12   8   \n",
        "3     The Log      Archers        Golem             Zap  ...   12   2   9   9   \n",
        "4  Barbarians      Minions  Baby Dragon      Ice Spirit  ...   12  12   6   6   \n",
        "\n",
        "  lr6 lr7 lr8 result    tl    tr  \n",
        "0   2   9   5      2  4325  4258  \n",
        "1   9  12   9      1  4296  4237  \n",
        "2   2   6  10     -1  4267  4300  \n",
        "3  13  12   6      1  4299  4240  \n",
        "4   6   3   3      0  4598  4628  \n",
        "\n",
        "[5 rows x 35 columns]\n"
       ]
      }
     ],
     "prompt_number": 7
    },
    {
     "cell_type": "markdown",
     "metadata": {},
     "source": []
    },
    {
     "cell_type": "markdown",
     "metadata": {},
     "source": [
      "## Analyze the popularity of the cards"
     ]
    },
    {
     "cell_type": "markdown",
     "metadata": {},
     "source": [
      "### The number of decks each card is used in"
     ]
    },
    {
     "cell_type": "code",
     "collapsed": false,
     "input": [
      "card_keys = df.keys()[:16]\n",
      "dicts = []\n",
      "for k in card_keys:\n",
      "    dicts.append(df[k].value_counts().to_dict())\n",
      "df_cards = pd.DataFrame(dicts)\n",
      "print df_cards.head()\n",
      "#save the counts, total 74 unique cards\n",
      "#df_cards.to_csv('data/cards_count.csv')\n",
      "cards_count = df_cards.sum()"
     ],
     "language": "python",
     "metadata": {},
     "outputs": [
      {
       "output_type": "stream",
       "stream": "stdout",
       "text": [
        "   Archers  Arrows  Baby Dragon  Balloon  Bandit  Barbarian Hut  Barbarians  \\\n",
        "0     2837    2358         2195      658    4477            204        1225   \n",
        "1     5092    3170         6204     2594    5366            135        2534   \n",
        "2     5337    3299         6113     1010    4513            203        2484   \n",
        "3     4839    5222         5432      719    4273             66        1687   \n",
        "4     5054    3238         4023      880    3558            124        2420   \n",
        "\n",
        "   Bats  Battle Ram  Bomb Tower  ...   Tesla  The Log  Three Musketeers  \\\n",
        "0   168        4911         154  ...      16     7340              4577   \n",
        "1   170        7481         164  ...     143     9820              3975   \n",
        "2   524        5687          22  ...     130    12032              2152   \n",
        "3   137        6666          43  ...      80    12348              3945   \n",
        "4   145        7108          69  ...      49    10715              4098   \n",
        "\n",
        "   Tombstone  Tornado  Valkyrie  Witch  Wizard  X-Bow   Zap  \n",
        "0       1304     2288       248    290     189    967  6069  \n",
        "1       2135     4630       566    499     432    109  6601  \n",
        "2       2568     4786       642    446     218    278  9920  \n",
        "3       2182     4877       562    196     464    100  9748  \n",
        "4       3429     4111       644    605     312    323  6054  \n",
        "\n",
        "[5 rows x 74 columns]\n"
       ]
      }
     ],
     "prompt_number": 8
    },
    {
     "cell_type": "markdown",
     "metadata": {},
     "source": [
      "### plot histogram of cards distribution\n",
      "\n",
      "The below distribution shows in how many decks are the cards used"
     ]
    },
    {
     "cell_type": "code",
     "collapsed": false,
     "input": [
      "names = cards_count.keys()[:5]\n",
      "values = cards_count.values[:5]\n",
      "plt.bar(range(len(names)),values, align='center')\n",
      "plt.xticks(range(len(names)),names, size='small')\n",
      "plt.show()"
     ],
     "language": "python",
     "metadata": {},
     "outputs": [
      {
       "metadata": {},
       "output_type": "display_data",
       "png": "[encoded data removed]",
       "text": [
        "<matplotlib.figure.Figure at 0x7f8ad1701f50>"
       ]
      }
     ],
     "prompt_number": 9
    },
    {
     "cell_type": "markdown",
     "metadata": {},
     "source": [
      "### Calculate the popularity of each card"
     ]
    },
    {
     "cell_type": "code",
     "collapsed": false,
     "input": [
      "n_decks = len(df) * 2 #each match has 2 decks\n",
      "popularity = (cards_count/n_decks) * 10\n",
      "# print popularity\n",
      "print popularity.head() #ranging from 0 to 10, sorted in increasing order"
     ],
     "language": "python",
     "metadata": {},
     "outputs": [
      {
       "output_type": "stream",
       "stream": "stdout",
       "text": [
        "Archers        1.745750\n",
        "Arrows         1.827125\n",
        "Baby Dragon    1.682650\n",
        "Balloon        0.487875\n",
        "Bandit         1.463450\n",
        "dtype: float64\n"
       ]
      }
     ],
     "prompt_number": 10
    },
    {
     "cell_type": "markdown",
     "metadata": {},
     "source": [
      "## Get infomation of the cards from the api"
     ]
    },
    {
     "cell_type": "code",
     "collapsed": false,
     "input": [
      "BASE = 'http://www.clashapi.xyz/api/cards'\n",
      "r = requests.get(BASE)"
     ],
     "language": "python",
     "metadata": {},
     "outputs": [],
     "prompt_number": 149
    },
    {
     "cell_type": "code",
     "collapsed": false,
     "input": [
      "cards_data = pd.DataFrame(r.json())\n",
      "cards_data.head()"
     ],
     "language": "python",
     "metadata": {},
     "outputs": [
      {
       "html": [
        "<div style=\"max-width:1500px;overflow:auto;\">\n",
        "<table border=\"1\" class=\"dataframe\">\n",
        "  <thead>\n",
        "    <tr style=\"text-align: right;\">\n",
        "      <th></th>\n",
        "      <th>__v</th>\n",
        "      <th>_id</th>\n",
        "      <th>arena</th>\n",
        "      <th>description</th>\n",
        "      <th>elixirCost</th>\n",
        "      <th>idName</th>\n",
        "      <th>name</th>\n",
        "      <th>order</th>\n",
        "      <th>rarity</th>\n",
        "      <th>type</th>\n",
        "    </tr>\n",
        "  </thead>\n",
        "  <tbody>\n",
        "    <tr>\n",
        "      <th>0</th>\n",
        "      <td>0</td>\n",
        "      <td>59dfbec71e4214cca00ded07</td>\n",
        "      <td>0</td>\n",
        "      <td>Arrows pepper a large area, damaging everyone ...</td>\n",
        "      <td>3</td>\n",
        "      <td>arrows</td>\n",
        "      <td>Arrows</td>\n",
        "      <td>1</td>\n",
        "      <td>Common</td>\n",
        "      <td>Spell</td>\n",
        "    </tr>\n",
        "    <tr>\n",
        "      <th>1</th>\n",
        "      <td>0</td>\n",
        "      <td>59dfbec71e4214cca00ded08</td>\n",
        "      <td>0</td>\n",
        "      <td>Small, lightly protected skeleton that throws ...</td>\n",
        "      <td>3</td>\n",
        "      <td>bomber</td>\n",
        "      <td>Bomber</td>\n",
        "      <td>2</td>\n",
        "      <td>Common</td>\n",
        "      <td>Troop</td>\n",
        "    </tr>\n",
        "    <tr>\n",
        "      <th>2</th>\n",
        "      <td>0</td>\n",
        "      <td>59dfbec71e4214cca00ded09</td>\n",
        "      <td>0</td>\n",
        "      <td>A pair of unarmored ranged attackers. They'll ...</td>\n",
        "      <td>3</td>\n",
        "      <td>archers</td>\n",
        "      <td>Archers</td>\n",
        "      <td>3</td>\n",
        "      <td>Common</td>\n",
        "      <td>Troop</td>\n",
        "    </tr>\n",
        "    <tr>\n",
        "      <th>3</th>\n",
        "      <td>0</td>\n",
        "      <td>59dfbec71e4214cca00ded0a</td>\n",
        "      <td>0</td>\n",
        "      <td>A tough melee fighter. The Barbarian's handsom...</td>\n",
        "      <td>3</td>\n",
        "      <td>knight</td>\n",
        "      <td>Knight</td>\n",
        "      <td>4</td>\n",
        "      <td>Common</td>\n",
        "      <td>Troop</td>\n",
        "    </tr>\n",
        "    <tr>\n",
        "      <th>4</th>\n",
        "      <td>0</td>\n",
        "      <td>59dfbec71e4214cca00ded0b</td>\n",
        "      <td>0</td>\n",
        "      <td>Annnnnd... Fireball. Incinerates a small area,...</td>\n",
        "      <td>4</td>\n",
        "      <td>fireball</td>\n",
        "      <td>Fireball</td>\n",
        "      <td>5</td>\n",
        "      <td>Rare</td>\n",
        "      <td>Spell</td>\n",
        "    </tr>\n",
        "  </tbody>\n",
        "</table>\n",
        "</div>"
       ],
       "metadata": {},
       "output_type": "pyout",
       "prompt_number": 157,
       "text": [
        "   __v                       _id  arena  \\\n",
        "0    0  59dfbec71e4214cca00ded07      0   \n",
        "1    0  59dfbec71e4214cca00ded08      0   \n",
        "2    0  59dfbec71e4214cca00ded09      0   \n",
        "3    0  59dfbec71e4214cca00ded0a      0   \n",
        "4    0  59dfbec71e4214cca00ded0b      0   \n",
        "\n",
        "                                         description  elixirCost    idName  \\\n",
        "0  Arrows pepper a large area, damaging everyone ...           3    arrows   \n",
        "1  Small, lightly protected skeleton that throws ...           3    bomber   \n",
        "2  A pair of unarmored ranged attackers. They'll ...           3   archers   \n",
        "3  A tough melee fighter. The Barbarian's handsom...           3    knight   \n",
        "4  Annnnnd... Fireball. Incinerates a small area,...           4  fireball   \n",
        "\n",
        "       name  order  rarity   type  \n",
        "0    Arrows      1  Common  Spell  \n",
        "1    Bomber      2  Common  Troop  \n",
        "2   Archers      3  Common  Troop  \n",
        "3    Knight      4  Common  Troop  \n",
        "4  Fireball      5    Rare  Spell  "
       ]
      }
     ],
     "prompt_number": 157
    },
    {
     "cell_type": "markdown",
     "metadata": {},
     "source": [
      "### Scrape information about card from the internet"
     ]
    },
    {
     "cell_type": "code",
     "collapsed": false,
     "input": [
      "\n",
      "hdr = {'User-Agent': 'Mozilla/5.0 (X11; Linux x86_64) AppleWebKit/537.11 (KHTML, like Gecko) Chrome/23.0.1271.64 Safari/537.11',\n",
      "       'Accept': 'text/html,application/xhtml+xml,application/xml;q=0.9,*/*;q=0.8',\n",
      "       'Accept-Charset': 'ISO-8859-1,utf-8;q=0.7,*;q=0.3',\n",
      "       'Accept-Encoding': 'none',\n",
      "       'Accept-Language': 'en-US,en;q=0.8',\n",
      "       'Connection': 'keep-alive'}\n",
      "req = urllib2.Request('https://statsroyale.com/cards', headers=hdr)\n",
      "html = urllib2.urlopen(req)\n",
      "bscards = BeautifulSoup(html)\n",
      "\n",
      "cardsGroup = bscards.findAll('div', {\"class\":\"cards__group\"})"
     ],
     "language": "python",
     "metadata": {},
     "outputs": [],
     "prompt_number": 221
    },
    {
     "cell_type": "code",
     "collapsed": false,
     "input": [
      "#get the names of the cards\n",
      "c_names = []\n",
      "s_names = []\n",
      "for cg in cardsGroup:\n",
      "    anchor = cg.findAll('a')   \n",
      "    for a in anchor:\n",
      "        found = a[\"href\"].split('/')[-1]\n",
      "        s_names.append(found)\n",
      "        found = found.replace('+', ' ')\n",
      "        c_names.append(found)\n",
      "\n",
      "print c_names[:5]\n",
      "     "
     ],
     "language": "python",
     "metadata": {},
     "outputs": [
      {
       "output_type": "stream",
       "stream": "stdout",
       "text": [
        "['Skeletons', 'Ice Spirit', 'Goblins', 'Spear Goblins', 'Fire Spirits']\n"
       ]
      }
     ],
     "prompt_number": 224
    },
    {
     "cell_type": "markdown",
     "metadata": {},
     "source": [
      "### get the cards info"
     ]
    },
    {
     "cell_type": "code",
     "collapsed": false,
     "input": [
      "#https://statsroyale.com/cards\n",
      "info_dict = {}\n",
      "r = None\n",
      "errors = []\n",
      "for s in range(len(s_names)):\n",
      "    try:\n",
      "        print \"getting for \" + c_names[s]\n",
      "        dps_dict = {\"1\":0,\"2\":0,\"3\":0,\"4\":0,\"5\":0,\"6\":0,\"7\":0,\"8\":0,\"9\":0,\"10\":0,\"11\":0,\"12\":0,\"13\":0}\n",
      "        req = urllib2.Request('https://statsroyale.com/card/'+s_names[s], headers=hdr)\n",
      "        html = urllib2.urlopen(req)\n",
      "        bs = BeautifulSoup(html)\n",
      "        table = bs.find('table')\n",
      "        rows = table.findAll('tr')\n",
      "\n",
      "        try:\n",
      "            r =  rows[3]\n",
      "        except:\n",
      "            r = rows[2]\n",
      "        stats = r.findAll('td', {\"class\":[\"card__tableValue\",\"card__tableValue  card__isActive\"]})\n",
      "        for i in range(1,len(stats)):\n",
      "            dps_dict[str(i)] = int(stats[i].contents[0].strip())\n",
      "\n",
      "        info_dict[c_names[s]] = dps_dict\n",
      "\n",
      "    except Exception as e:\n",
      "        errors.append(c_names[s]+ \" \" +str(e))\n",
      "        continue"
     ],
     "language": "python",
     "metadata": {},
     "outputs": [
      {
       "output_type": "stream",
       "stream": "stdout",
       "text": [
        "getting for Skeletons\n",
        "getting for Ice Spirit"
       ]
      },
      {
       "output_type": "stream",
       "stream": "stdout",
       "text": [
        "\n",
        "getting for Goblins"
       ]
      },
      {
       "output_type": "stream",
       "stream": "stdout",
       "text": [
        "\n",
        "getting for Spear Goblins"
       ]
      },
      {
       "output_type": "stream",
       "stream": "stdout",
       "text": [
        "\n",
        "getting for Fire Spirits"
       ]
      },
      {
       "output_type": "stream",
       "stream": "stdout",
       "text": [
        "\n",
        "getting for Bats"
       ]
      },
      {
       "output_type": "stream",
       "stream": "stdout",
       "text": [
        "\n",
        "getting for Knight"
       ]
      },
      {
       "output_type": "stream",
       "stream": "stdout",
       "text": [
        "\n",
        "getting for Archers"
       ]
      },
      {
       "output_type": "stream",
       "stream": "stdout",
       "text": [
        "\n",
        "getting for Minions"
       ]
      },
      {
       "output_type": "stream",
       "stream": "stdout",
       "text": [
        "\n",
        "getting for Bomber"
       ]
      },
      {
       "output_type": "stream",
       "stream": "stdout",
       "text": [
        "\n",
        "getting for Goblin Gang"
       ]
      },
      {
       "output_type": "stream",
       "stream": "stdout",
       "text": [
        "\n",
        "getting for Skeleton Barrel"
       ]
      },
      {
       "output_type": "stream",
       "stream": "stdout",
       "text": [
        "\n",
        "getting for Barbarians"
       ]
      },
      {
       "output_type": "stream",
       "stream": "stdout",
       "text": [
        "\n",
        "getting for Minion Horde"
       ]
      },
      {
       "output_type": "stream",
       "stream": "stdout",
       "text": [
        "\n",
        "getting for Royal Giant"
       ]
      },
      {
       "output_type": "stream",
       "stream": "stdout",
       "text": [
        "\n",
        "getting for Elite Barbarians"
       ]
      },
      {
       "output_type": "stream",
       "stream": "stdout",
       "text": [
        "\n",
        "getting for Skeleton Army"
       ]
      },
      {
       "output_type": "stream",
       "stream": "stdout",
       "text": [
        "\n",
        "getting for Guards"
       ]
      },
      {
       "output_type": "stream",
       "stream": "stdout",
       "text": [
        "\n",
        "getting for Baby Dragon"
       ]
      },
      {
       "output_type": "stream",
       "stream": "stdout",
       "text": [
        "\n",
        "getting for Dark Prince"
       ]
      },
      {
       "output_type": "stream",
       "stream": "stdout",
       "text": [
        "\n",
        "getting for Balloon"
       ]
      },
      {
       "output_type": "stream",
       "stream": "stdout",
       "text": [
        "\n",
        "getting for Witch"
       ]
      },
      {
       "output_type": "stream",
       "stream": "stdout",
       "text": [
        "\n",
        "getting for Prince"
       ]
      },
      {
       "output_type": "stream",
       "stream": "stdout",
       "text": [
        "\n",
        "getting for Bowler"
       ]
      },
      {
       "output_type": "stream",
       "stream": "stdout",
       "text": [
        "\n",
        "getting for Executioner"
       ]
      },
      {
       "output_type": "stream",
       "stream": "stdout",
       "text": [
        "\n",
        "getting for Cannon Cart"
       ]
      },
      {
       "output_type": "stream",
       "stream": "stdout",
       "text": [
        "\n",
        "getting for Giant Skeleton"
       ]
      },
      {
       "output_type": "stream",
       "stream": "stdout",
       "text": [
        "\n",
        "getting for P.E.K.K.A"
       ]
      },
      {
       "output_type": "stream",
       "stream": "stdout",
       "text": [
        "\n",
        "getting for Golem"
       ]
      },
      {
       "output_type": "stream",
       "stream": "stdout",
       "text": [
        "\n",
        "getting for Ice Wizard"
       ]
      },
      {
       "output_type": "stream",
       "stream": "stdout",
       "text": [
        "\n",
        "getting for Princess"
       ]
      },
      {
       "output_type": "stream",
       "stream": "stdout",
       "text": [
        "\n",
        "getting for Miner"
       ]
      },
      {
       "output_type": "stream",
       "stream": "stdout",
       "text": [
        "\n",
        "getting for Bandit"
       ]
      },
      {
       "output_type": "stream",
       "stream": "stdout",
       "text": [
        "\n",
        "getting for Lumberjack"
       ]
      },
      {
       "output_type": "stream",
       "stream": "stdout",
       "text": [
        "\n",
        "getting for Inferno Dragon"
       ]
      },
      {
       "output_type": "stream",
       "stream": "stdout",
       "text": [
        "\n",
        "getting for Electro Wizard"
       ]
      },
      {
       "output_type": "stream",
       "stream": "stdout",
       "text": [
        "\n",
        "getting for Night Witch"
       ]
      },
      {
       "output_type": "stream",
       "stream": "stdout",
       "text": [
        "\n",
        "getting for Sparky"
       ]
      },
      {
       "output_type": "stream",
       "stream": "stdout",
       "text": [
        "\n",
        "getting for Lava Hound"
       ]
      },
      {
       "output_type": "stream",
       "stream": "stdout",
       "text": [
        "\n",
        "getting for Mega Knight"
       ]
      },
      {
       "output_type": "stream",
       "stream": "stdout",
       "text": [
        "\n",
        "getting for Ice Golem"
       ]
      },
      {
       "output_type": "stream",
       "stream": "stdout",
       "text": [
        "\n",
        "getting for Mega Minion"
       ]
      },
      {
       "output_type": "stream",
       "stream": "stdout",
       "text": [
        "\n",
        "getting for Dart Goblin"
       ]
      },
      {
       "output_type": "stream",
       "stream": "stdout",
       "text": [
        "\n",
        "getting for Valkyrie"
       ]
      },
      {
       "output_type": "stream",
       "stream": "stdout",
       "text": [
        "\n",
        "getting for Musketeer"
       ]
      },
      {
       "output_type": "stream",
       "stream": "stdout",
       "text": [
        "\n",
        "getting for Mini P.E.K.K.A"
       ]
      },
      {
       "output_type": "stream",
       "stream": "stdout",
       "text": [
        "\n",
        "getting for Hog Rider"
       ]
      },
      {
       "output_type": "stream",
       "stream": "stdout",
       "text": [
        "\n",
        "getting for Battle Ram"
       ]
      },
      {
       "output_type": "stream",
       "stream": "stdout",
       "text": [
        "\n",
        "getting for Flying Machine"
       ]
      },
      {
       "output_type": "stream",
       "stream": "stdout",
       "text": [
        "\n",
        "getting for Giant"
       ]
      },
      {
       "output_type": "stream",
       "stream": "stdout",
       "text": [
        "\n",
        "getting for Wizard"
       ]
      },
      {
       "output_type": "stream",
       "stream": "stdout",
       "text": [
        "\n",
        "getting for Three Musketeers"
       ]
      },
      {
       "output_type": "stream",
       "stream": "stdout",
       "text": [
        "\n",
        "getting for Cannon"
       ]
      },
      {
       "output_type": "stream",
       "stream": "stdout",
       "text": [
        "\n",
        "getting for Mortar"
       ]
      },
      {
       "output_type": "stream",
       "stream": "stdout",
       "text": [
        "\n",
        "getting for Tesla"
       ]
      },
      {
       "output_type": "stream",
       "stream": "stdout",
       "text": [
        "\n",
        "getting for X-Bow"
       ]
      },
      {
       "output_type": "stream",
       "stream": "stdout",
       "text": [
        "\n",
        "getting for Tombstone"
       ]
      },
      {
       "output_type": "stream",
       "stream": "stdout",
       "text": [
        "\n",
        "getting for Furnace"
       ]
      },
      {
       "output_type": "stream",
       "stream": "stdout",
       "text": [
        "\n",
        "getting for Goblin Hut"
       ]
      },
      {
       "output_type": "stream",
       "stream": "stdout",
       "text": [
        "\n",
        "getting for Inferno Tower"
       ]
      },
      {
       "output_type": "stream",
       "stream": "stdout",
       "text": [
        "\n",
        "getting for Bomb Tower"
       ]
      },
      {
       "output_type": "stream",
       "stream": "stdout",
       "text": [
        "\n",
        "getting for Elixir Collector"
       ]
      },
      {
       "output_type": "stream",
       "stream": "stdout",
       "text": [
        "\n",
        "getting for Barbarian Hut"
       ]
      },
      {
       "output_type": "stream",
       "stream": "stdout",
       "text": [
        "\n",
        "getting for Zap"
       ]
      },
      {
       "output_type": "stream",
       "stream": "stdout",
       "text": [
        "\n",
        "getting for Arrows"
       ]
      },
      {
       "output_type": "stream",
       "stream": "stdout",
       "text": [
        "\n",
        "getting for Mirror"
       ]
      },
      {
       "output_type": "stream",
       "stream": "stdout",
       "text": [
        "\n",
        "getting for Rage"
       ]
      },
      {
       "output_type": "stream",
       "stream": "stdout",
       "text": [
        "\n",
        "getting for Goblin Barrel"
       ]
      },
      {
       "output_type": "stream",
       "stream": "stdout",
       "text": [
        "\n",
        "getting for Tornado"
       ]
      },
      {
       "output_type": "stream",
       "stream": "stdout",
       "text": [
        "\n",
        "getting for Clone"
       ]
      },
      {
       "output_type": "stream",
       "stream": "stdout",
       "text": [
        "\n",
        "getting for Freeze"
       ]
      },
      {
       "output_type": "stream",
       "stream": "stdout",
       "text": [
        "\n",
        "getting for Poison"
       ]
      },
      {
       "output_type": "stream",
       "stream": "stdout",
       "text": [
        "\n",
        "getting for Lightning"
       ]
      },
      {
       "output_type": "stream",
       "stream": "stdout",
       "text": [
        "\n",
        "getting for The Log"
       ]
      },
      {
       "output_type": "stream",
       "stream": "stdout",
       "text": [
        "\n",
        "getting for Graveyard"
       ]
      },
      {
       "output_type": "stream",
       "stream": "stdout",
       "text": [
        "\n",
        "getting for Heal"
       ]
      },
      {
       "output_type": "stream",
       "stream": "stdout",
       "text": [
        "\n",
        "getting for Fireball"
       ]
      },
      {
       "output_type": "stream",
       "stream": "stdout",
       "text": [
        "\n",
        "getting for Rocket"
       ]
      },
      {
       "output_type": "stream",
       "stream": "stdout",
       "text": [
        "\n"
       ]
      }
     ],
     "prompt_number": 291
    },
    {
     "cell_type": "code",
     "collapsed": false,
     "input": [
      "cards_stats_df = pd.read_csv('data/cards_stats.csv')"
     ],
     "language": "python",
     "metadata": {},
     "outputs": [],
     "prompt_number": 11
    },
    {
     "cell_type": "code",
     "collapsed": false,
     "input": [
      "print cards_stats_df.head()\n",
      "means = {}\n",
      "std = {}"
     ],
     "language": "python",
     "metadata": {},
     "outputs": [
      {
       "output_type": "stream",
       "stream": "stdout",
       "text": [
        "    Unnamed: 0  Elixer      1      2      3      4      5      6      7  \\\n",
        "0      Archers     3.0   34.0   37.0   40.0   45.0   49.0   54.0   60.0   \n",
        "1       Arrows     3.0   46.0   50.0   55.0   60.0   66.0   73.0   80.0   \n",
        "2  Baby Dragon     4.0   62.0   68.0   75.0   83.0   91.0  100.0  110.0   \n",
        "3      Balloon     5.0  200.0  220.0  242.0  266.0  292.0  320.0  352.0   \n",
        "4       Bandit     3.0  160.0  176.0  193.0  212.0  233.0    0.0    0.0   \n",
        "\n",
        "       8     9     10     11     12     13  \n",
        "0   65.0  71.0   79.0   86.0   95.0  105.0  \n",
        "1   88.0  97.0  106.0  117.0  129.0  142.0  \n",
        "2  120.0   0.0    0.0    0.0    0.0    0.0  \n",
        "3  386.0   0.0    0.0    0.0    0.0    0.0  \n",
        "4    0.0   0.0    0.0    0.0    0.0    0.0  \n"
       ]
      }
     ],
     "prompt_number": 30
    },
    {
     "cell_type": "code",
     "collapsed": false,
     "input": [
      "mean_elixer = cards_stats_df['Elixer'].mean()\n",
      "std_elixer = cards_stats_df['Elixer'].std()"
     ],
     "language": "python",
     "metadata": {},
     "outputs": [],
     "prompt_number": 13
    },
    {
     "cell_type": "code",
     "collapsed": false,
     "input": [
      "means_level = {}\n",
      "std_level = {}\n",
      "for k in cards_stats_df.keys()[2:]:\n",
      "    means_level[k] = cards_stats_df[k].mean()\n",
      "    std_level[k] = cards_stats_df[k].mean()"
     ],
     "language": "python",
     "metadata": {},
     "outputs": [],
     "prompt_number": 15
    },
    {
     "cell_type": "code",
     "collapsed": false,
     "input": [
      "cf = cards_stats_df.set_index('Unnamed: 0')\n",
      "cf = (cf - cf.mean())/cf.std()\n",
      "cf.to_csv('data/stats_normalized.csv')"
     ],
     "language": "python",
     "metadata": {},
     "outputs": [],
     "prompt_number": 28
    },
    {
     "cell_type": "code",
     "collapsed": false,
     "input": [
      "means['elixer'] = mean_elixer\n",
      "means['level'] = means_level\n",
      "std['elixer'] = std_elixer\n",
      "std['level'] = std_level"
     ],
     "language": "python",
     "metadata": {},
     "outputs": [],
     "prompt_number": 31
    },
    {
     "cell_type": "code",
     "collapsed": false,
     "input": [
      "open('data/normalization_vals.txt','w').write(json.dumps({\"means\":means, \"std\":std}))"
     ],
     "language": "python",
     "metadata": {},
     "outputs": [],
     "prompt_number": 32
    },
    {
     "cell_type": "code",
     "collapsed": false,
     "input": [],
     "language": "python",
     "metadata": {},
     "outputs": []
    },
    {
     "cell_type": "code",
     "collapsed": false,
     "input": [],
     "language": "python",
     "metadata": {},
     "outputs": []
    },
    {
     "cell_type": "code",
     "collapsed": false,
     "input": [],
     "language": "python",
     "metadata": {},
     "outputs": []
    },
    {
     "cell_type": "code",
     "collapsed": false,
     "input": [],
     "language": "python",
     "metadata": {},
     "outputs": []
    },
    {
     "cell_type": "code",
     "collapsed": false,
     "input": [],
     "language": "python",
     "metadata": {},
     "outputs": []
    },
    {
     "cell_type": "code",
     "collapsed": false,
     "input": [],
     "language": "python",
     "metadata": {},
     "outputs": []
    },
    {
     "cell_type": "markdown",
     "metadata": {},
     "source": [
      "# Model Building"
     ]
    },
    {
     "cell_type": "code",
     "collapsed": false,
     "input": [
      "#layer.py\n",
      "\n",
      "alpha = 0.1\n",
      "alpha_synthetic = 0.1\n",
      "# old fashioned layer of nn\n",
      "class Layer:\n",
      "    def __init__(self,input_dim, output_dim, nonlin, nonlin_deriv):\n",
      "        self.weights = np.random.randn(output_dim,input_dim) * np.sqrt(1.0/(1+input_dim))\n",
      "        self.bias = np.random.randn(output_dim) * np.sqrt(1.0/1+input_dim)\n",
      "        self.nonlin = nonlin\n",
      "        self.nonlin_deriv = nonlin_deriv\n",
      "        \n",
      "    \n",
      "    def forward(self, input):\n",
      "        self.input = input\n",
      "        self.output = self.nonlin(np.dot(self.weights, input) + self.bias)\n",
      "        return self.output\n",
      "    \n",
      "    def backward(self,d_out):\n",
      "        self.output_delta = d_out * self.nonlin_deriv(self.output)\n",
      "        return np.dot(self.output_delta.reshape(1,-1), self.weights)\n",
      "        \n",
      "    def update(self):\n",
      "        self.weights -= np.outer(self.output_delta, self.input) * alpha\n",
      "        self.bias -= self.output_delta * alpha\n",
      "        \n",
      "\n",
      "class NDI:\n",
      "    def __init__(self, input_dim, output_dim, nonlin, nonlin_deriv):\n",
      "        self.weights = np.random.randn(output_dim,input_dim) * np.sqrt(1.0/(1+input_dim))\n",
      "        self.bias = np.random.randn(output_dim) * np.sqrt(1.0/1+input_dim)\n",
      "        self.nonlin = nonlin\n",
      "        self.nonlin_deriv = nonlin_deriv\n",
      "        \n",
      "        # weights of synthetic gradient networks\n",
      "        self.weights_synthetic = np.random.randn(output_dim,output_dim) * np.sqrt(1.0/1 + output_dim)\n",
      "    \n",
      "    def forward(self, input):\n",
      "        self.input = input\n",
      "        self.output = self.nonlin(np.dot(self.weights, input) + self.bias)\n",
      "        \n",
      "        #calculate synthetic error\n",
      "        self.synthetic_gradient = np.dot(self.weights_synthetic, self.output)\n",
      "        \n",
      "        self.output_delta_synthetic = self.synthetic_gradient * self.nonlin_deriv(self.output)\n",
      "        #update\n",
      "        self.weights -= np.outer(self.output_delta_synthetic, self.input) * alpha\n",
      "        self.bias -= self.output_delta * alpha\n",
      "        return self.output, np.dot(self.output_delta_synthetic.reshape(1,-1), self.weights)\n",
      "    \n",
      "    def update_synthetic_weights(self, true_gradient):\n",
      "        change = self.synthetic_gradient - self.true_gradient\n",
      "        self.weights_synthetic -= np.outer(change, self.output) * alpha_synthetic"
     ],
     "language": "python",
     "metadata": {},
     "outputs": [
      {
       "ename": "SyntaxError",
       "evalue": "invalid syntax (<ipython-input-4-1b3eb9070ef7>, line 36)",
       "output_type": "pyerr",
       "traceback": [
        "\u001b[0;36m  File \u001b[0;32m\"<ipython-input-4-1b3eb9070ef7>\"\u001b[0;36m, line \u001b[0;32m36\u001b[0m\n\u001b[0;31m    self.weights_synthetic = np.random.randn(output_dim,output_dim) * np.sqrt(1.0/1 + output_dim))\u001b[0m\n\u001b[0m                                                                                                 ^\u001b[0m\n\u001b[0;31mSyntaxError\u001b[0m\u001b[0;31m:\u001b[0m invalid syntax\n"
       ]
      }
     ],
     "prompt_number": 4
    },
    {
     "cell_type": "code",
     "collapsed": false,
     "input": [],
     "language": "python",
     "metadata": {},
     "outputs": []
    }
   ],
   "metadata": {}
  }
 ]
}